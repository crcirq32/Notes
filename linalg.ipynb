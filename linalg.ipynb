{
 "cells": [
  {
   "cell_type": "code",
   "execution_count": 41,
   "id": "0599b25d",
   "metadata": {},
   "outputs": [],
   "source": [
    "#https://medium.com/swlh/linear-algebra-in-python-b967061e342a\n",
    "import numpy as np\n",
    "import scipy\n",
    "import scipy.linalg"
   ]
  },
  {
   "cell_type": "code",
   "execution_count": 26,
   "id": "2f3bd1d2",
   "metadata": {},
   "outputs": [
    {
     "data": {
      "text/plain": [
       "array(['John', 'Mary'], dtype='<U8')"
      ]
     },
     "execution_count": 26,
     "metadata": {},
     "output_type": "execute_result"
    }
   ],
   "source": [
    "# understanding numpy array\n",
    "a = np.array([[1,2,3],[4,5,6]])\n",
    "a.strides\n",
    "a.dtype\n",
    "\n",
    "\n",
    "# slicing and indexing\n",
    "b = np.array([[1,2,3,4,5,6,7,8,9,10],\n",
    "             [4,5,6,7,8,9,20,11,12,13],\n",
    "             [1,2,3,4,5,6,7,8,9,9]])\n",
    "\n",
    "# what is a slice object\n",
    "test = slice(1,10,2)\n",
    "\n",
    "# basic indexing only return a \"view\", it will change the original array content\n",
    "b0 = b[1:3,4:7]\n",
    "b0[0,1] = 99\n",
    "b1 = b[:,(4,7)]\n",
    "b1[0,1] = 99\n",
    "\n",
    "\n",
    "# understand dtype\n",
    "d_type = np.dtype('<U8')\n",
    "d_type.byteorder\n",
    "d_type.itemsize\n",
    "d_type.name\n",
    "\n",
    "# structural array and record array\n",
    "sa = np.array([('John',[88,95,100]),('Mary',[77,88,68])],\n",
    "              dtype=[('student','<U8'),('grades','<i4',(3,))])\n",
    "sa['student']\n",
    "ra = sa.view(np.recarray)\n",
    "ra.student"
   ]
  },
  {
   "cell_type": "code",
   "execution_count": 27,
   "id": "fb4813ee",
   "metadata": {},
   "outputs": [
    {
     "data": {
      "text/plain": [
       "array([[ 0.03538088,  0.13662954,  0.00855712],\n",
       "       [-0.75789296,  0.3432679 , -1.08965008]])"
      ]
     },
     "execution_count": 27,
     "metadata": {},
     "output_type": "execute_result"
    }
   ],
   "source": [
    "a = np.random.randn(2,3)\n",
    "a\n",
    "#a.T #transpose A"
   ]
  },
  {
   "cell_type": "code",
   "execution_count": 28,
   "id": "ff7fc4f7",
   "metadata": {},
   "outputs": [
    {
     "data": {
      "text/plain": [
       "array([[-0.10133432, -0.40134174],\n",
       "       [ 1.09400102,  1.17341136],\n",
       "       [-0.48764524, -0.28678199]])"
      ]
     },
     "execution_count": 28,
     "metadata": {},
     "output_type": "execute_result"
    }
   ],
   "source": [
    "b = np.random.randn(3,2) #\n",
    "b\n",
    "#b.T #transpose B"
   ]
  },
  {
   "cell_type": "code",
   "execution_count": 29,
   "id": "6d99011e",
   "metadata": {},
   "outputs": [
    {
     "data": {
      "text/plain": [
       "array([[0.14171471, 0.1436688 ],\n",
       "       [0.98369868, 1.01946055]])"
      ]
     },
     "execution_count": 29,
     "metadata": {},
     "output_type": "execute_result"
    }
   ],
   "source": [
    "a @ b #"
   ]
  },
  {
   "cell_type": "code",
   "execution_count": 30,
   "id": "a31fa4ab",
   "metadata": {},
   "outputs": [
    {
     "data": {
      "text/plain": [
       "2"
      ]
     },
     "execution_count": 30,
     "metadata": {},
     "output_type": "execute_result"
    }
   ],
   "source": [
    "#compute rank of matrix\n",
    "x = np.random.rand(2,3)\n",
    "np.linalg.matrix_rank(x)"
   ]
  },
  {
   "cell_type": "code",
   "execution_count": 31,
   "id": "204cdeb5",
   "metadata": {},
   "outputs": [
    {
     "name": "stdout",
     "output_type": "stream",
     "text": [
      "Independent columns vectors is number of columns\n",
      "Orthonormal vectors: Two vectors’ inner products are 0 and they are all of the unit lengths\n",
      "If matrix A’s rows and columns are orthonormal vectors, this matrix A is an orthogonal matrix.\n",
      "it means A.T @ A = A @ A.T = I.\n"
     ]
    }
   ],
   "source": [
    "print(\"Independent columns vectors is number of columns\\nOrthonormal vectors: Two vectors’ inner products are 0 and they are all of the unit lengths\\nIf matrix A’s rows and columns are orthonormal vectors, this matrix A is an orthogonal matrix.\\nit means A.T @ A = A @ A.T = I.\")"
   ]
  },
  {
   "cell_type": "code",
   "execution_count": 32,
   "id": "82e70eb7",
   "metadata": {},
   "outputs": [
    {
     "data": {
      "text/plain": [
       "-0.10631549483230265"
      ]
     },
     "execution_count": 32,
     "metadata": {},
     "output_type": "execute_result"
    }
   ],
   "source": [
    "#determinant of square matrix\n",
    "x = np.random.rand(4,4)\n",
    "np.linalg.det(x)"
   ]
  },
  {
   "cell_type": "code",
   "execution_count": 33,
   "id": "90c563c3",
   "metadata": {},
   "outputs": [
    {
     "name": "stdout",
     "output_type": "stream",
     "text": [
      "Gaussian Elimination can be used in: \n",
      "(a) solving a linear system Ax=b, \n",
      "(b) compute inverse matrix \n",
      "(c) solve rank \n",
      "(d) solve determinant: via a series of elementary row operations including: \n",
      "\t(1) swap rows, (2) scale rows, (3) Add one row to another.\n"
     ]
    }
   ],
   "source": [
    "print(\"Gaussian Elimination can be used in: \\n(a) solving a linear system Ax=b, \\n(b) compute inverse matrix \\n(c) solve rank \\n(d) solve determinant: via a series of elementary row operations including: \\n\\t(1) swap rows, (2) scale rows, (3) Add one row to another.\")"
   ]
  },
  {
   "cell_type": "code",
   "execution_count": 34,
   "id": "40225666",
   "metadata": {},
   "outputs": [
    {
     "data": {
      "text/plain": [
       "array([28, 40, 54])"
      ]
     },
     "execution_count": 34,
     "metadata": {},
     "output_type": "execute_result"
    }
   ],
   "source": [
    "a = np.array([4,5,6]) \n",
    "b = np.array([7,8,9])\n",
    "np.inner(a,b)\n",
    "np.outer(a,b)\n",
    "a * b"
   ]
  },
  {
   "cell_type": "code",
   "execution_count": 35,
   "id": "47484ed9",
   "metadata": {},
   "outputs": [
    {
     "name": "stdout",
     "output_type": "stream",
     "text": [
      "a * b #element wise or hadamard product:\n",
      "[28, 32, 36]\n",
      "[35, 40, 45]\n",
      "[42, 48, 54]\n"
     ]
    }
   ],
   "source": [
    "print(\"a * b #element wise or hadamard product:\\n[28, 32, 36]\\n[35, 40, 45]\\n[42, 48, 54]\")"
   ]
  },
  {
   "cell_type": "code",
   "execution_count": 36,
   "id": "ce8aa4b8",
   "metadata": {},
   "outputs": [
    {
     "data": {
      "text/plain": [
       "array([4.40206186, 5.03092784, 5.65979381])"
      ]
     },
     "execution_count": 36,
     "metadata": {},
     "output_type": "execute_result"
    }
   ],
   "source": [
    "#project one vector(a) to another(b)import requests\n",
    "#https://miro.medium.com/max/852/1*Z_25fqw14MDet16ErCswYg.png\n",
    "a = np.array([4,5,6])\n",
    "b = np.array([7,8,9])\n",
    "proj_b_a = np.inner(a,b) / np.inner(b,b) * b\n",
    "proj_b_a"
   ]
  },
  {
   "cell_type": "code",
   "execution_count": 37,
   "id": "121d44b0",
   "metadata": {},
   "outputs": [
    {
     "name": "stdout",
     "output_type": "stream",
     "text": [
      "The Gram-Schmidt process is to orthonormalize a set of vectors (v1,v2,v3…vn) to (u1,u2,u3…un) in the same Rn vector space but within which each element is of unit length and are mutually orthogonal.\n"
     ]
    }
   ],
   "source": [
    "print(\"The Gram-Schmidt process is to orthonormalize a set of vectors (v1,v2,v3…vn) to (u1,u2,u3…un) in the same Rn vector space but within which each element is of unit length and are mutually orthogonal.\")"
   ]
  },
  {
   "cell_type": "code",
   "execution_count": 38,
   "id": "32439b6c",
   "metadata": {},
   "outputs": [
    {
     "name": "stdout",
     "output_type": "stream",
     "text": [
      "LU decomposition aims to decompose a matrix (no need to be square) to a lower triangular matrix (L, entries above diagonal are 0) and an upper triangular matrix (U, entries above diagonal are 0. to make LU decomposition materialize, sometimes we reorder the matrix using a P matrix. \n"
     ]
    }
   ],
   "source": [
    "#LU decomposition.\n",
    "print(\"LU decomposition aims to decompose a matrix (no need to be square) to a lower triangular matrix (L, entries above diagonal are 0) and an upper triangular matrix (U, entries above diagonal are 0. to make LU decomposition materialize, sometimes we reorder the matrix using a P matrix. \")"
   ]
  },
  {
   "cell_type": "code",
   "execution_count": 45,
   "id": "29391b81",
   "metadata": {},
   "outputs": [
    {
     "data": {
      "text/plain": [
       "(array([[0., 0., 1.],\n",
       "        [0., 1., 0.],\n",
       "        [1., 0., 0.]]),\n",
       " array([[ 1.        ,  0.        ,  0.        ],\n",
       "        [-0.34948116,  1.        ,  0.        ],\n",
       "        [-0.26104073,  0.67929946,  1.        ]]),\n",
       " array([[-1.79236438, -1.1023231 , -0.11922257,  1.62419664],\n",
       "        [ 0.        ,  0.80340273,  1.2277828 ,  1.21634248],\n",
       "        [ 0.        ,  0.        , -0.42755837,  0.21483253]]))"
      ]
     },
     "execution_count": 45,
     "metadata": {},
     "output_type": "execute_result"
    }
   ],
   "source": [
    "a = np.random.randn(3,4)\n",
    "p,l,u = scipy.linalg.lu(a)\n",
    "scipy.linalg.lu(a)"
   ]
  },
  {
   "cell_type": "code",
   "execution_count": 53,
   "id": "95866e6e",
   "metadata": {},
   "outputs": [
    {
     "name": "stdout",
     "output_type": "stream",
     "text": [
      "QR decompostion aims to decompose a matrix to an orthogonal matrix (Q) and an upper triangular matrix (R). It is used in QR algorithms to solve the linear least square problem\n"
     ]
    }
   ],
   "source": [
    "print(\"QR decompostion aims to decompose a matrix to an orthogonal matrix (Q) and an upper triangular matrix (R). It is used in QR algorithms to solve the linear least square problem\")"
   ]
  },
  {
   "cell_type": "code",
   "execution_count": 54,
   "id": "4023b2dd",
   "metadata": {},
   "outputs": [
    {
     "data": {
      "text/plain": [
       "(array([[-0.54574954,  0.49507357,  0.67606183],\n",
       "        [ 0.00320811, -0.80556571,  0.59249776],\n",
       "        [ 0.83794221,  0.32552426,  0.43804886]]),\n",
       " array([[ 2.33135625,  1.02551901,  0.59982663,  2.06929811],\n",
       "        [ 0.        ,  1.23086574,  0.46167557,  0.45616345],\n",
       "        [ 0.        ,  0.        , -0.27752297, -1.47310507]]))"
      ]
     },
     "execution_count": 54,
     "metadata": {},
     "output_type": "execute_result"
    }
   ],
   "source": [
    "#QR decomposition.\n",
    "a = np.random.randn(3,4)\n",
    "q,r = np.linalg.qr(a)\n",
    "np.linalg.qr(a)"
   ]
  },
  {
   "cell_type": "code",
   "execution_count": 55,
   "id": "1fa8e11b",
   "metadata": {},
   "outputs": [],
   "source": [
    "#Eigen-decomposition, diagonalization, Characteristic polynomial.\n",
    "#https://miro.medium.com/max/1400/1*OHOo8YKWJU_3-TelJHCiNg.png.\n",
    "print(\"\")"
   ]
  },
  {
   "cell_type": "code",
   "execution_count": 57,
   "id": "79a1c2ab",
   "metadata": {},
   "outputs": [
    {
     "data": {
      "text/plain": [
       "(array([ 1.69575282+0.j       , -0.57972954+1.0978258j,\n",
       "        -0.57972954-1.0978258j, -0.17770177+0.j       ]),\n",
       " array([[ 0.20802269+0.j        ,  0.66053553+0.j        ,\n",
       "          0.66053553-0.j        ,  0.68154965+0.j        ],\n",
       "        [ 0.46253088+0.j        ,  0.03261016-0.10239656j,\n",
       "          0.03261016+0.10239656j, -0.22607887+0.j        ],\n",
       "        [ 0.83705707+0.j        , -0.01591858-0.39761075j,\n",
       "         -0.01591858+0.39761075j,  0.47537856+0.j        ],\n",
       "        [-0.20524916+0.j        ,  0.44367375-0.44379075j,\n",
       "          0.44367375+0.44379075j,  0.50832435+0.j        ]]))"
      ]
     },
     "execution_count": 57,
     "metadata": {},
     "output_type": "execute_result"
    }
   ],
   "source": [
    "ei = np.random.randn(4,4)\n",
    "w,v = np.linalg.eig(ei) #w=eigenvalues & v=eigenvector\n",
    "np.linalg.eig(ei)"
   ]
  },
  {
   "cell_type": "code",
   "execution_count": null,
   "id": "b878bf0d",
   "metadata": {},
   "outputs": [],
   "source": [
    "#TODO: Moore-Penrose pseudo-inverse, hermitian, conjugate transpose, full-rank matrix"
   ]
  }
 ],
 "metadata": {
  "kernelspec": {
   "display_name": "Python 3 (ipykernel)",
   "language": "python",
   "name": "python3"
  },
  "language_info": {
   "codemirror_mode": {
    "name": "ipython",
    "version": 3
   },
   "file_extension": ".py",
   "mimetype": "text/x-python",
   "name": "python",
   "nbconvert_exporter": "python",
   "pygments_lexer": "ipython3",
   "version": "3.10.4"
  }
 },
 "nbformat": 4,
 "nbformat_minor": 5
}
